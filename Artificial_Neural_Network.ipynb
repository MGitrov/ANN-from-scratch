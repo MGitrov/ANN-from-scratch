{
 "cells": [
  {
   "cell_type": "code",
   "execution_count": 2,
   "id": "7182c8de",
   "metadata": {},
   "outputs": [],
   "source": [
    "import numpy as np"
   ]
  },
  {
   "cell_type": "markdown",
   "id": "fe11d33a",
   "metadata": {},
   "source": [
    "# Neuron"
   ]
  },
  {
   "cell_type": "code",
   "execution_count": 3,
   "id": "537a0443",
   "metadata": {},
   "outputs": [],
   "source": [
    "def sigmoid(x):\n",
    "    '''\n",
    "    A function that will apply the sigmoid activation function.\n",
    "    \n",
    "    Parameters:\n",
    "        - x (int, float): The sum of the dot product with the bias.\n",
    "        \n",
    "    Returns:\n",
    "        - float: The output of the neuron.\n",
    "    '''\n",
    "    return 1 / (1 + np.exp(-x))"
   ]
  },
  {
   "cell_type": "code",
   "execution_count": 4,
   "id": "c829edb9",
   "metadata": {},
   "outputs": [],
   "source": [
    "class Neuron:\n",
    "    def __init__(self, weights, bias):\n",
    "        self.weights = weights\n",
    "        self.bias = bias\n",
    "        \n",
    "    def feed_forward(self, inputs):\n",
    "        '''\n",
    "        A function that will perform the process of passing inputs forward to get an output.\n",
    "        \n",
    "        Parameters:\n",
    "            - inputs (int, float, list of ints / floats): Neuron's input.\n",
    "            \n",
    "        Returns:\n",
    "            - float: The output of the neuron.\n",
    "        '''\n",
    "        result = np.dot(a = self.weights, b = inputs) + self.bias\n",
    "        \n",
    "        return sigmoid(x = result)"
   ]
  },
  {
   "cell_type": "code",
   "execution_count": 5,
   "id": "b5d4a167",
   "metadata": {},
   "outputs": [],
   "source": [
    "#w_1 = 0, w_2 = 1\n",
    "weights = [0, 1]\n",
    "\n",
    "#b = 4\n",
    "bias = 4\n",
    "neuron = Neuron(weights = weights, bias = bias)"
   ]
  },
  {
   "cell_type": "code",
   "execution_count": 6,
   "id": "54bce6b9",
   "metadata": {},
   "outputs": [
    {
     "data": {
      "text/plain": [
       "0.9990889488055994"
      ]
     },
     "execution_count": 6,
     "metadata": {},
     "output_type": "execute_result"
    }
   ],
   "source": [
    "#x_1 = 2, x_2 = 3\n",
    "inputs = [2, 3]\n",
    "neuron.feed_forward(inputs = inputs)"
   ]
  },
  {
   "cell_type": "markdown",
   "id": "5ddd2db0",
   "metadata": {},
   "source": [
    "# Neural Network"
   ]
  },
  {
   "cell_type": "code",
   "execution_count": 7,
   "id": "0f595f17",
   "metadata": {},
   "outputs": [],
   "source": [
    "class Neural_Network():\n",
    "    '''\n",
    "    A neural network in the form of:\n",
    "        - 2 input values\n",
    "        - 1 hidden layer with 2 neurons\n",
    "        - An output layer with 1 neuron\n",
    "        \n",
    "    For simplicity, each neuron will have the same weights and bias as follows:\n",
    "        - weights = [0, 1]\n",
    "        - bias = 0\n",
    "    '''\n",
    "    def __init__(self):\n",
    "        weights = [0, 1]\n",
    "        bias = 0\n",
    "        \n",
    "        self.h1 = Neuron(weights = weights, bias = bias)\n",
    "        self.h2 = Neuron(weights = weights, bias = bias)\n",
    "        self.o1 = Neuron(weights = weights, bias = bias)\n",
    "        \n",
    "    def feed_forward(self, inputs):\n",
    "        '''\n",
    "        A function that will perform the process of passing inputs forward to get an output.\n",
    "        \n",
    "        Parameters:\n",
    "            - inputs (list of ints / floats): Neural network's input.\n",
    "            \n",
    "        Returns:\n",
    "            - float: The output of the neural network.\n",
    "        '''\n",
    "        output_h1 = self.h1.feed_forward(inputs = inputs)\n",
    "        output_h2 = self.h2.feed_forward(inputs = inputs)\n",
    "        \n",
    "        #The inputs to the output layer are the outputs of the hidden layer.\n",
    "        output_o1 = self.o1.feed_forward(inputs = [output_h1, output_h2])\n",
    "        \n",
    "        return output_o1"
   ]
  },
  {
   "cell_type": "code",
   "execution_count": 8,
   "id": "b8eed27a",
   "metadata": {},
   "outputs": [],
   "source": [
    "ann = Neural_Network()"
   ]
  },
  {
   "cell_type": "code",
   "execution_count": 9,
   "id": "c98ab7b6",
   "metadata": {},
   "outputs": [
    {
     "data": {
      "text/plain": [
       "0.7216325609518421"
      ]
     },
     "execution_count": 9,
     "metadata": {},
     "output_type": "execute_result"
    }
   ],
   "source": [
    "inputs = [2, 3]\n",
    "ann.feed_forward(inputs = inputs)"
   ]
  },
  {
   "cell_type": "code",
   "execution_count": 13,
   "id": "04a5bcaa",
   "metadata": {},
   "outputs": [],
   "source": [
    "def mse_loss(y_true, y_pred):\n",
    "    '''\n",
    "    A function that will calculate the loss in the form of mean squared error (MSE).\n",
    "    \n",
    "    Parameters:\n",
    "        - y_true (numpy array): The actual values of the target variable.\n",
    "        - y_pred (numpy array): The predicted values of the target variable.\n",
    "        \n",
    "    Returns:\n",
    "        - int / float: The loss.\n",
    "    '''\n",
    "    return ((y_pred - y_true) ** 2).mean()"
   ]
  },
  {
   "cell_type": "code",
   "execution_count": 14,
   "id": "538392d1",
   "metadata": {},
   "outputs": [
    {
     "data": {
      "text/plain": [
       "0.5"
      ]
     },
     "execution_count": 14,
     "metadata": {},
     "output_type": "execute_result"
    }
   ],
   "source": [
    "y_true = np.array([1, 0, 0, 1])\n",
    "y_pred = np.array([0, 0, 0, 0])\n",
    "mse_loss(y_true = y_true, y_pred = y_pred)"
   ]
  }
 ],
 "metadata": {
  "kernelspec": {
   "display_name": "Python 3.10.7 64-bit (microsoft store)",
   "language": "python",
   "name": "python3"
  },
  "language_info": {
   "codemirror_mode": {
    "name": "ipython",
    "version": 3
   },
   "file_extension": ".py",
   "mimetype": "text/x-python",
   "name": "python",
   "nbconvert_exporter": "python",
   "pygments_lexer": "ipython3",
   "version": "3.10.7"
  },
  "vscode": {
   "interpreter": {
    "hash": "0a1711d0bf5b863f53104549f70b879233b46cc07d7206b040e92c4d761b405c"
   }
  }
 },
 "nbformat": 4,
 "nbformat_minor": 5
}
